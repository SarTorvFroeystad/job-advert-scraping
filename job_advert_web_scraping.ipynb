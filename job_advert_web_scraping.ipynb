{
 "cells": [
  {
   "cell_type": "markdown",
   "metadata": {},
   "source": [
    "# Scraping a Job Advert to Map Keyword Frequency\n",
    "\n",
    "This project scrapes text from an online job advertisement and analyzes the frequency of keywords within the ad. The goal is to identify the most emphasized skills and qualifications, helping job seekers tailor their resumes and applications to specific job postings.\n"
   ]
  },
  {
   "cell_type": "markdown",
   "metadata": {},
   "source": [
    "##### <b> BeautifulSoup and Requests"
   ]
  },
  {
   "cell_type": "code",
   "execution_count": 2,
   "metadata": {},
   "outputs": [],
   "source": [
    "# Import necessary libraries\n",
    "from bs4 import BeautifulSoup\n",
    "import requests\n",
    "import pandas as pd\n",
    "import re\n",
    "\n",
    "# The URL of the job advertisement\n",
    "url = 'https://www.finn.no/job/fulltime/ad.html?finnkode=362413628'"
   ]
  },
  {
   "cell_type": "markdown",
   "metadata": {},
   "source": [
    "## Step 1: Check the Status of the Webpage\n",
    "\n",
    "Before scraping the content, we need to ensure that the webpage is accessible by checking the HTTP status code. A status code of 200 indicates the page is available, while a 404 error means the page is not found.\n"
   ]
  },
  {
   "cell_type": "code",
   "execution_count": 3,
   "metadata": {},
   "outputs": [
    {
     "name": "stdout",
     "output_type": "stream",
     "text": [
      "Status code: 200\n",
      "Full of soup! Feel free to retrieve the soup of choice.\n"
     ]
    }
   ],
   "source": [
    "\n",
    "def CheckSoupStatus(url):\n",
    "    \n",
    "    \"\"\" \n",
    "    Check the HTTP status code of the URL response and print a message \n",
    "    indicating whether the request was successful.\n",
    "    (200 for OK, 404 for Not Found).\n",
    "    \"\"\"\n",
    "\n",
    "    # Send a HTTP GET request to the specified URL\n",
    "    webpage = requests.get(url)\n",
    "    print(f'Status code: {webpage.status_code}')\n",
    "\n",
    "    # Provide a message/feedback based on the status code\n",
    "    if webpage.status_code == 200:\n",
    "        print('Full of soup! Feel free to retrieve the soup of choice.')\n",
    "    elif webpage.status_code == 404:\n",
    "        print('Server Error. No soup available at the moment.')\n",
    "    else:\n",
    "        print('Oh no. Something is not working.')\n",
    "\n",
    "# Check the status of the webpage\n",
    "CheckSoupStatus(url)\n"
   ]
  },
  {
   "cell_type": "markdown",
   "metadata": {},
   "source": [
    "## Step 2: Scrape and Parse the Webpage Content\n",
    "\n",
    "Next, we'll send a request to the URL and parse the HTML content of the page using BeautifulSoup. We'll then extract the title of the webpage and inspect the HTML structure.\n"
   ]
  },
  {
   "cell_type": "code",
   "execution_count": 4,
   "metadata": {},
   "outputs": [
    {
     "data": {
      "text/plain": [
       "'Vikariat som bioingeniør/ avdelingsingeniør ved Kreftgenomikk | FINN.no'"
      ]
     },
     "execution_count": 4,
     "metadata": {},
     "output_type": "execute_result"
    }
   ],
   "source": [
    "# Requests.get() returns a response object, \n",
    "# which contains the server's response to the request. \n",
    "# This object includes attributes like .text (the content of the response) \n",
    "# and .status_code (the HTTP status code).\n",
    "\n",
    "# Send an HTTP GET request to the URL and get the page content\n",
    "page = requests.get(url)\n",
    "\n",
    "# Parse the HTML content using BeautifulSoup\n",
    "soup = BeautifulSoup(page.text, 'html.parser')\n",
    "\n",
    "# Prints the title of the webpage as a string\n",
    "soup.title.string"
   ]
  },
  {
   "cell_type": "code",
   "execution_count": 11,
   "metadata": {},
   "outputs": [
    {
     "name": "stdout",
     "output_type": "stream",
     "text": [
      "<!DOCTYPE html>\n",
      "<html lang=\"nb\">\n",
      " <head>\n",
      "  <meta charset=\"utf-8\"/>\n",
      "  <meta content=\"width=device-width,initial-scale=1\" name=\"viewport\"/>\n",
      "  <meta content=\"telephone=no\" name=\"format-detection\"/>\n",
      "  <meta content=\"0\" name=\"nmp:tracking:aurora\"/>\n",
      "  <meta content=\"FINN\" name=\"nmp:tracking:brand\"/>\n",
      "  <meta content=\"job-item-web\" name=\"nmp:tracking:app-name\"/>\n",
      "  <meta content=\"0\" property=\"mbl:login\"/>\n",
      "  <title>\n",
      "   Vikariat som bioingeniør/ avdelingsingeniør ved Kreftgenomikk | FINN.no\n",
      "  </title>\n",
      "  <meta content=\"Kreftgenomikk er ei eining i Laboratorieklinikken med ansvar for avansert molekylær kreftdiagnostikk. Avdelinga er ei av åtte einingar i Laboratorieklinikken\" name=\"description\"/>\n",
      "  <meta content=\"Vikariat som bioingeniør/ avdelingsingeniør ved Kreftgenomikk | FINN.no\" property=\"og:title\"/>\n",
      "  <meta content=\"https://www.finn.no/job/fulltime/ad.html?finnkode=362413628\" property=\"og:url\"/>\n",
      "  <meta content=\"Kreftgenomikk er ei eining i Laboratorieklinikken med ansvar for avansert moleky\n"
     ]
    }
   ],
   "source": [
    "# Prettify makes the HTML code look pretty (readable) by adding hierarchy\n",
    "\n",
    "# Get the prettified HTML content\n",
    "pretty_html = soup.prettify()\n",
    "\n",
    "# Print only the first 1000 characters\n",
    "print(pretty_html[:1000])"
   ]
  },
  {
   "cell_type": "markdown",
   "metadata": {},
   "source": [
    "## Step 3: Extract the Job Advertisement Text\n",
    "\n",
    "We will search for the specific `div` tag containing the job advertisement text. Once found, we will extract and clean the text.\n"
   ]
  },
  {
   "cell_type": "code",
   "execution_count": 12,
   "metadata": {},
   "outputs": [],
   "source": [
    "# 'div' parameter finds all the div tags within the HTML code\n",
    "soup.find_all('div', class_='import-decoration');"
   ]
  },
  {
   "cell_type": "code",
   "execution_count": 13,
   "metadata": {},
   "outputs": [
    {
     "data": {
      "text/plain": [
       "'Kreftgenomikk er ei eining i Laboratorieklinikken med ansvar for avansert molekylær kreftdiagnostikk. Avdelinga er ei av åtte einingar i Laboratorieklinikken som rapporterer direkte til klinikkdirektør. Kreftgenomikk samarbeider med Avdeling for patologi, Avdeling for medisinsk genetikk, Avdeling for medisinsk biokjemi og farmakologi, Regionalt kompetansesenter for arveleg kreft, Seksjon for bioinformatikk og Biobank Haukeland. Dei tilsette har ulik yrkesfagleg bakgrunn med høg faglegkompetanse (helsesekretær, bioingeniørar, molekylærbiologar og legar).Innan kreftfeltet har vi for tida ei nasjonal satsing for å bygge opp infrastruktur for presisjonsdiagnostikk (InPreD). Helse Bergen HF er eit nivå 1-sjukehus og er dermed leiande i utviklingsarbeidet. Kreftgenomikk har ei sentral rolle i innføring av nødvendige laboratorieanalysar for presisjonsmedisin og skal i tillegg til rutinediagnostik og leggje til rette infrastruktur, biobanking og studiespesifikke analysar i kliniske studiar. Arbeidet går føre seg i tett samarbeid med andre einingar i Helse Bergen, og mellom sjukehus regionalt og nasjonalt.Avdelinga nyttar ulike molekylære analysemetodar på kromosom-, DNA- og RNA-nivå for å undersøke endringar i genomet som er viktige for diagnostikk og behandling. Laboratoriet er akkreditert ihht ISO 15189 standarden.Kreftgenomikk lyser ut vikariat i 100% stilling som bioingeniør, alternativt avdelingsingeniør. Vikaren vil hovudsakleg jobbe ved eininga Tumorgenomikk, der ein jobbar i diagnostisk rutinedrift med solide svulstar på FFPE vev, fersk materiale og blod/beinmarg. Blodprøvetaking vil og inngå i stillinga og bioingeniør vil derfor bli prioritert, samt ein kan bli involvert i andre oppgåver ved avdelinga. ArbeidsoppgåverStillinga vil hovudsakleg ha arbeidsoppgåver og ansvar knytta til dagleg analytisk drift. Dette inneber forbehandling av materiale (blod, celleutstyrk, ferskt og FFPE), nukleinsyre ekstraksjon,  FISH,  qPCR, Sanger-sekvensering, fragment-analyse, neste generasjons sekvensering (NGS) med meirEin må ta medansvar for instrumentdrift, analytisk kvalitetskontroll, prosedyreskriving og vedlikehaldDet kan bli aktuelt å bidra ved utvikling av nye arbeidsrutinar og analysar samt oppdatering av eksisterande metodar. Det kan og bli aktuelt å bidra til opplæringEin må halde seg fagleg oppdatert innan seksjonen sitt fagspesifikke områdeStillinga inneber deltaking i laboratoriets rutinar for prøvetaking        KvalifikasjonarSøkar må ha norsk autorisasjon som bioingeniør eller anna molekyærbiologisk utdanning fra høgskule/universitetDet er ønskeleg med erfaring frå genetisk arbeid og molekylærbiologiske teknikkarDet vil også vere ein fordel å ha kjennskap til seksjonen sine analysemetodar, samt programvare som nyttast ved seksjonenSøkar må meistre norsk både skriftleg og munnleg og det er ein fordel med gode kunnskapar i engelsk      Personlege eigenskaparStillinga føreset evne til sjølvstendig arbeid og det blir lagt vekt på personlege eigenskapar, samarbeids- og kommunikasjonsevnerSøkar må trivast i eit tverrfagleg og aktivt miljø under oppbyggingSjølvstendig, resultatorientert, engasjert og strukturert God gjennomføringsevneVi tilbyr degLønn i samsvar med gjeldande overeinskomstUtfordrande arbeidsoppgåverHøgt fagleg nivåGode pensjons- og forsikringsordningar Fleksibel arbeidstidVi oppfordrar alle søkjarar til å nytte Vitnemålsportalen for å laste opp vitnemål og karakterutskrifter.           Ved å bruke Vitnemålsportalen sikrar du at dokumenta dine er verifiserte og oppdaterte. Du finn meir informasjon om korleis du brukar Vitnemålsportalen på www.vitnemalsportalen.no.  Har du har tatt utdanning i utlandet, må du leggje ved godkjenning frå UDIR/NOKUT i søknaden. Om du ikkje finn alle dine relevante vitnemål i Vitnemålsportalen, kan du laste dei opp som eigne vedlegg til søknaden. Vi ønsker å spegle mangfaldet i befolkninga i rekrutteringa vår. Vi oppmodar alle som er kvalifiserte til å søke ledige stillingar uansett kjønn, alder, funksjonshemming og fleirkulturell bakgrunn. Det same gjeld dersom ein har hatt eit lengre opphald frå arbeidslivet. Føretaksgruppa i Helse Vest ønsker å legge til rette for inkluderande rekruttering.'"
      ]
     },
     "execution_count": 13,
     "metadata": {},
     "output_type": "execute_result"
    }
   ],
   "source": [
    "# Using find instead of find_all to extract text\n",
    "job_ad = soup.find('div', class_='import-decoration').text.strip()\n",
    "\n",
    "job_ad"
   ]
  },
  {
   "cell_type": "markdown",
   "metadata": {},
   "source": [
    "## Step 4: Process the Text Data\n",
    "\n",
    "We'll split the job ad text into individual words, remove any empty entries, and convert all words to lowercase to standardize them.\n"
   ]
  },
  {
   "cell_type": "code",
   "execution_count": 17,
   "metadata": {},
   "outputs": [
    {
     "data": {
      "text/plain": [
       "['Kreftgenomikk',\n",
       " 'er',\n",
       " 'ei',\n",
       " 'eining',\n",
       " 'i',\n",
       " 'Laboratorieklinikken',\n",
       " 'med',\n",
       " 'ansvar',\n",
       " 'for',\n",
       " 'avansert',\n",
       " 'molekylær',\n",
       " 'kreftdiagnostikk',\n",
       " '',\n",
       " 'Avdelinga',\n",
       " 'er']"
      ]
     },
     "execution_count": 17,
     "metadata": {},
     "output_type": "execute_result"
    }
   ],
   "source": [
    "\n",
    "# Define multiple separators using regex pattern, including a way to parse camelCase and PascalCase strings\n",
    "pattern = r'(?<=[a-z])(?=[A-Z])|[;,/.() ]'\n",
    "\n",
    "# Split the job ad text based on the defined pattern\n",
    "word_list = re.split(pattern, job_ad)\n",
    "\n",
    "# Showing a snippet of the list\n",
    "word_list[:15]"
   ]
  },
  {
   "cell_type": "code",
   "execution_count": 18,
   "metadata": {},
   "outputs": [
    {
     "data": {
      "text/plain": [
       "['kreftgenomikk',\n",
       " 'er',\n",
       " 'ei',\n",
       " 'eining',\n",
       " 'i',\n",
       " 'laboratorieklinikken',\n",
       " 'med',\n",
       " 'ansvar',\n",
       " 'for',\n",
       " 'avansert',\n",
       " 'molekylær',\n",
       " 'kreftdiagnostikk',\n",
       " 'avdelinga',\n",
       " 'er',\n",
       " 'ei']"
      ]
     },
     "execution_count": 18,
     "metadata": {},
     "output_type": "execute_result"
    }
   ],
   "source": [
    "words = []\n",
    "\n",
    "# Process the word list: remove empty list entries and standardize to lowercase\n",
    "for word in word_list:\n",
    "    if word == '':\n",
    "        continue\n",
    "    else:\n",
    "        words.append(word.lower())\n",
    "\n",
    "# Showing a snippet of the list\n",
    "words[:15]"
   ]
  },
  {
   "cell_type": "markdown",
   "metadata": {},
   "source": [
    "## Step 5: Analyze Keyword Frequency\n",
    "\n",
    "Using Pandas, we'll count the frequency of each word in the job ad and store the results in a DataFrame. Finally, we'll save the word frequency data to a CSV file for further analysis.\n"
   ]
  },
  {
   "cell_type": "code",
   "execution_count": 10,
   "metadata": {},
   "outputs": [],
   "source": [
    "# Create a Pandas Series from the word list and count the frequency of each word\n",
    "series = pd.Series(words).value_counts()\n",
    "\n",
    "# Create a DataFrame with the word counts\n",
    "df = pd.DataFrame(index=series.index)\n",
    "df['Count'] = series\n",
    "\n",
    "df\n",
    "\n",
    "# Save the word frequency DataFrame to a CSV file\n",
    "df.to_csv('word_list')"
   ]
  }
 ],
 "metadata": {
  "kernelspec": {
   "display_name": "Python 3",
   "language": "python",
   "name": "python3"
  },
  "language_info": {
   "codemirror_mode": {
    "name": "ipython",
    "version": 3
   },
   "file_extension": ".py",
   "mimetype": "text/x-python",
   "name": "python",
   "nbconvert_exporter": "python",
   "pygments_lexer": "ipython3",
   "version": "3.11.9"
  }
 },
 "nbformat": 4,
 "nbformat_minor": 2
}
